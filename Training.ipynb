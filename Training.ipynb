{
 "cells": [
  {
   "cell_type": "markdown",
   "id": "76c23fa9-4b89-4ce4-89fb-a898781502b2",
   "metadata": {},
   "source": [
    "# Training Model"
   ]
  },
  {
   "cell_type": "code",
   "execution_count": 5,
   "id": "e142e6c2-a2cd-414d-811a-459d66786d52",
   "metadata": {},
   "outputs": [],
   "source": [
    "# Import Libraries\n",
    "import pandas as pd\n",
    "import numpy as np\n",
    "from sklearn import metrics\n",
    "from sklearn.model_selection import train_test_split, GridSearchCV\n",
    "from sklearn.preprocessing import StandardScaler, OneHotEncoder\n",
    "from sklearn.compose import ColumnTransformer\n",
    "from sklearn.pipeline import Pipeline\n",
    "from sklearn.impute import SimpleImputer\n",
    "import warnings\n",
    "warnings.filterwarnings('ignore')\n",
    "\n",
    "# Import Models\n",
    "from sklearn.linear_model import LogisticRegression\n",
    "from sklearn.svm import SVC\n",
    "from sklearn.ensemble import RandomForestClassifier, AdaBoostClassifier\n",
    "from xgboost import XGBClassifier\n",
    "import joblib"
   ]
  },
  {
   "cell_type": "code",
   "execution_count": 7,
   "id": "d2f52390-b7fb-4ba4-8e57-543822935399",
   "metadata": {},
   "outputs": [],
   "source": [
    "# Apply Settings\n",
    "pd.set_option(\"display.max_column\", None)"
   ]
  },
  {
   "cell_type": "code",
   "execution_count": 8,
   "id": "d1facbb7-e65c-4f02-925a-747f4594c60b",
   "metadata": {},
   "outputs": [
    {
     "data": {
      "text/html": [
       "<div>\n",
       "<style scoped>\n",
       "    .dataframe tbody tr th:only-of-type {\n",
       "        vertical-align: middle;\n",
       "    }\n",
       "\n",
       "    .dataframe tbody tr th {\n",
       "        vertical-align: top;\n",
       "    }\n",
       "\n",
       "    .dataframe thead th {\n",
       "        text-align: right;\n",
       "    }\n",
       "</style>\n",
       "<table border=\"1\" class=\"dataframe\">\n",
       "  <thead>\n",
       "    <tr style=\"text-align: right;\">\n",
       "      <th></th>\n",
       "      <th>gender</th>\n",
       "      <th>SeniorCitizen</th>\n",
       "      <th>Partner</th>\n",
       "      <th>Dependents</th>\n",
       "      <th>tenure</th>\n",
       "      <th>PhoneService</th>\n",
       "      <th>MultipleLines</th>\n",
       "      <th>InternetService</th>\n",
       "      <th>OnlineSecurity</th>\n",
       "      <th>OnlineBackup</th>\n",
       "      <th>DeviceProtection</th>\n",
       "      <th>TechSupport</th>\n",
       "      <th>StreamingTV</th>\n",
       "      <th>StreamingMovies</th>\n",
       "      <th>Contract</th>\n",
       "      <th>PaperlessBilling</th>\n",
       "      <th>PaymentMethod</th>\n",
       "      <th>MonthlyCharges</th>\n",
       "      <th>TotalCharges</th>\n",
       "      <th>Churn</th>\n",
       "    </tr>\n",
       "  </thead>\n",
       "  <tbody>\n",
       "    <tr>\n",
       "      <th>0</th>\n",
       "      <td>Female</td>\n",
       "      <td>No</td>\n",
       "      <td>Yes</td>\n",
       "      <td>No</td>\n",
       "      <td>1</td>\n",
       "      <td>No</td>\n",
       "      <td>No phone service</td>\n",
       "      <td>DSL</td>\n",
       "      <td>No</td>\n",
       "      <td>Yes</td>\n",
       "      <td>No</td>\n",
       "      <td>No</td>\n",
       "      <td>No</td>\n",
       "      <td>No</td>\n",
       "      <td>Month-to-month</td>\n",
       "      <td>Yes</td>\n",
       "      <td>Electronic check</td>\n",
       "      <td>29.85</td>\n",
       "      <td>29.85</td>\n",
       "      <td>No</td>\n",
       "    </tr>\n",
       "    <tr>\n",
       "      <th>1</th>\n",
       "      <td>Male</td>\n",
       "      <td>No</td>\n",
       "      <td>No</td>\n",
       "      <td>No</td>\n",
       "      <td>34</td>\n",
       "      <td>Yes</td>\n",
       "      <td>No</td>\n",
       "      <td>DSL</td>\n",
       "      <td>Yes</td>\n",
       "      <td>No</td>\n",
       "      <td>Yes</td>\n",
       "      <td>No</td>\n",
       "      <td>No</td>\n",
       "      <td>No</td>\n",
       "      <td>One year</td>\n",
       "      <td>No</td>\n",
       "      <td>Mailed check</td>\n",
       "      <td>56.95</td>\n",
       "      <td>1889.50</td>\n",
       "      <td>No</td>\n",
       "    </tr>\n",
       "    <tr>\n",
       "      <th>2</th>\n",
       "      <td>Male</td>\n",
       "      <td>No</td>\n",
       "      <td>No</td>\n",
       "      <td>No</td>\n",
       "      <td>2</td>\n",
       "      <td>Yes</td>\n",
       "      <td>No</td>\n",
       "      <td>DSL</td>\n",
       "      <td>Yes</td>\n",
       "      <td>Yes</td>\n",
       "      <td>No</td>\n",
       "      <td>No</td>\n",
       "      <td>No</td>\n",
       "      <td>No</td>\n",
       "      <td>Month-to-month</td>\n",
       "      <td>Yes</td>\n",
       "      <td>Mailed check</td>\n",
       "      <td>53.85</td>\n",
       "      <td>108.15</td>\n",
       "      <td>Yes</td>\n",
       "    </tr>\n",
       "    <tr>\n",
       "      <th>3</th>\n",
       "      <td>Male</td>\n",
       "      <td>No</td>\n",
       "      <td>No</td>\n",
       "      <td>No</td>\n",
       "      <td>45</td>\n",
       "      <td>No</td>\n",
       "      <td>No phone service</td>\n",
       "      <td>DSL</td>\n",
       "      <td>Yes</td>\n",
       "      <td>No</td>\n",
       "      <td>Yes</td>\n",
       "      <td>Yes</td>\n",
       "      <td>No</td>\n",
       "      <td>No</td>\n",
       "      <td>One year</td>\n",
       "      <td>No</td>\n",
       "      <td>Bank transfer (automatic)</td>\n",
       "      <td>42.30</td>\n",
       "      <td>1840.75</td>\n",
       "      <td>No</td>\n",
       "    </tr>\n",
       "    <tr>\n",
       "      <th>4</th>\n",
       "      <td>Female</td>\n",
       "      <td>No</td>\n",
       "      <td>No</td>\n",
       "      <td>No</td>\n",
       "      <td>2</td>\n",
       "      <td>Yes</td>\n",
       "      <td>No</td>\n",
       "      <td>Fiber optic</td>\n",
       "      <td>No</td>\n",
       "      <td>No</td>\n",
       "      <td>No</td>\n",
       "      <td>No</td>\n",
       "      <td>No</td>\n",
       "      <td>No</td>\n",
       "      <td>Month-to-month</td>\n",
       "      <td>Yes</td>\n",
       "      <td>Electronic check</td>\n",
       "      <td>70.70</td>\n",
       "      <td>151.65</td>\n",
       "      <td>Yes</td>\n",
       "    </tr>\n",
       "  </tbody>\n",
       "</table>\n",
       "</div>"
      ],
      "text/plain": [
       "   gender SeniorCitizen Partner Dependents  tenure PhoneService  \\\n",
       "0  Female            No     Yes         No       1           No   \n",
       "1    Male            No      No         No      34          Yes   \n",
       "2    Male            No      No         No       2          Yes   \n",
       "3    Male            No      No         No      45           No   \n",
       "4  Female            No      No         No       2          Yes   \n",
       "\n",
       "      MultipleLines InternetService OnlineSecurity OnlineBackup  \\\n",
       "0  No phone service             DSL             No          Yes   \n",
       "1                No             DSL            Yes           No   \n",
       "2                No             DSL            Yes          Yes   \n",
       "3  No phone service             DSL            Yes           No   \n",
       "4                No     Fiber optic             No           No   \n",
       "\n",
       "  DeviceProtection TechSupport StreamingTV StreamingMovies        Contract  \\\n",
       "0               No          No          No              No  Month-to-month   \n",
       "1              Yes          No          No              No        One year   \n",
       "2               No          No          No              No  Month-to-month   \n",
       "3              Yes         Yes          No              No        One year   \n",
       "4               No          No          No              No  Month-to-month   \n",
       "\n",
       "  PaperlessBilling              PaymentMethod  MonthlyCharges  TotalCharges  \\\n",
       "0              Yes           Electronic check           29.85         29.85   \n",
       "1               No               Mailed check           56.95       1889.50   \n",
       "2              Yes               Mailed check           53.85        108.15   \n",
       "3               No  Bank transfer (automatic)           42.30       1840.75   \n",
       "4              Yes           Electronic check           70.70        151.65   \n",
       "\n",
       "  Churn  \n",
       "0    No  \n",
       "1    No  \n",
       "2   Yes  \n",
       "3    No  \n",
       "4   Yes  "
      ]
     },
     "execution_count": 8,
     "metadata": {},
     "output_type": "execute_result"
    }
   ],
   "source": [
    "# Load Data \n",
    "data = pd.read_csv(r'cleaned_data.csv')\n",
    "data.head()"
   ]
  },
  {
   "cell_type": "code",
   "execution_count": 9,
   "id": "5cddf6d2-2c31-4d3f-b5dd-ac8d9bd23d80",
   "metadata": {},
   "outputs": [
    {
     "name": "stdout",
     "output_type": "stream",
     "text": [
      "<class 'pandas.core.frame.DataFrame'>\n",
      "RangeIndex: 7024 entries, 0 to 7023\n",
      "Data columns (total 20 columns):\n",
      " #   Column            Non-Null Count  Dtype  \n",
      "---  ------            --------------  -----  \n",
      " 0   gender            7022 non-null   object \n",
      " 1   SeniorCitizen     7024 non-null   object \n",
      " 2   Partner           7021 non-null   object \n",
      " 3   Dependents        7024 non-null   object \n",
      " 4   tenure            7024 non-null   int64  \n",
      " 5   PhoneService      7022 non-null   object \n",
      " 6   MultipleLines     7024 non-null   object \n",
      " 7   InternetService   7024 non-null   object \n",
      " 8   OnlineSecurity    7024 non-null   object \n",
      " 9   OnlineBackup      7024 non-null   object \n",
      " 10  DeviceProtection  7024 non-null   object \n",
      " 11  TechSupport       7024 non-null   object \n",
      " 12  StreamingTV       7024 non-null   object \n",
      " 13  StreamingMovies   7024 non-null   object \n",
      " 14  Contract          7020 non-null   object \n",
      " 15  PaperlessBilling  7024 non-null   object \n",
      " 16  PaymentMethod     7019 non-null   object \n",
      " 17  MonthlyCharges    7020 non-null   float64\n",
      " 18  TotalCharges      7013 non-null   float64\n",
      " 19  Churn             7024 non-null   object \n",
      "dtypes: float64(2), int64(1), object(17)\n",
      "memory usage: 1.1+ MB\n"
     ]
    }
   ],
   "source": [
    "# BAcking up the data\n",
    "df = data.copy()\n",
    "# Explore\n",
    "df.info()"
   ]
  },
  {
   "cell_type": "code",
   "execution_count": 10,
   "id": "ecaa4b0d-eafd-4cae-9018-e216ae53cb56",
   "metadata": {},
   "outputs": [
    {
     "data": {
      "text/plain": [
       "Churn\n",
       "0    5166\n",
       "1    1858\n",
       "Name: count, dtype: int64"
      ]
     },
     "execution_count": 10,
     "metadata": {},
     "output_type": "execute_result"
    }
   ],
   "source": [
    "# Encode Target Column\n",
    "df['Churn'] = df['Churn'].map({'Yes':1, 'No':0})\n",
    "df['Churn'].value_counts()"
   ]
  },
  {
   "cell_type": "code",
   "execution_count": 11,
   "id": "8116f694-d8ae-492c-bf29-1473284bd898",
   "metadata": {},
   "outputs": [
    {
     "name": "stdout",
     "output_type": "stream",
     "text": [
      "The Numeric Columns are: \n",
      " ['tenure', 'MonthlyCharges', 'TotalCharges']\n",
      "The Categorical Columns are: \n",
      " ['gender', 'SeniorCitizen', 'Partner', 'Dependents', 'PhoneService', 'MultipleLines', 'InternetService', 'OnlineSecurity', 'OnlineBackup', 'DeviceProtection', 'TechSupport', 'StreamingTV', 'StreamingMovies', 'Contract', 'PaperlessBilling', 'PaymentMethod']\n"
     ]
    }
   ],
   "source": [
    "# Seperate Target and Feature\n",
    "X = df.drop(columns = ['Churn'], axis = 1)\n",
    "y = df['Churn']\n",
    "\n",
    "num_columns = X.select_dtypes(include= 'number').columns.to_list()\n",
    "cat_columns = X.select_dtypes(include = 'object').columns.to_list()\n",
    "\n",
    "print('The Numeric Columns are: \\n', num_columns)\n",
    "print('The Categorical Columns are: \\n', cat_columns)"
   ]
  },
  {
   "cell_type": "code",
   "execution_count": 18,
   "id": "7e46d002-0e76-4101-bc1e-db7861939ada",
   "metadata": {},
   "outputs": [],
   "source": [
    "# Split data\n",
    "X_train, X_test, y_train, y_test = train_test_split(X,y,test_size=0.2,random_state=42)"
   ]
  },
  {
   "cell_type": "code",
   "execution_count": 14,
   "id": "e224b7db-5af8-4228-b820-ff3f13812c13",
   "metadata": {},
   "outputs": [],
   "source": [
    "# Processing the data\n",
    "num_transformer = Pipeline(steps=[\n",
    "    ('imputer', SimpleImputer(strategy= 'median')),\n",
    "    ('scaler', StandardScaler())\n",
    "])\n",
    "\n",
    "cat_transformer = Pipeline(steps= [\n",
    "    ('imputer', SimpleImputer(strategy= 'most_frequent')),\n",
    "    ('encoder', OneHotEncoder(handle_unknown= 'ignore', sparse_output= False)) # sparse_ouput = False is to get dense matrix due to Machine Learning\n",
    "])\n",
    "\n",
    "# Combine Steps\n",
    "preprocessor = ColumnTransformer(transformers=[\n",
    "    ('num', num_transformer, num_columns),\n",
    "    ('cat', cat_transformer, cat_columns)\n",
    "])"
   ]
  },
  {
   "cell_type": "markdown",
   "id": "29b12913-b3fe-4c1b-90d8-dc6b3e67743f",
   "metadata": {},
   "source": [
    "# Model Training"
   ]
  },
  {
   "cell_type": "code",
   "execution_count": 25,
   "id": "07f1911f-705a-4472-b379-77b69455fcab",
   "metadata": {},
   "outputs": [],
   "source": [
    "# Models\n",
    "model_dict = {\n",
    "    'Logistic_Regression': LogisticRegression(max_iter=1000),\n",
    "    'SVM': SVC(probability=True),\n",
    "    'RandomForestClassifier': RandomForestClassifier(),\n",
    "    'AdaBoostClassifier': AdaBoostClassifier(),\n",
    "    'XGBoost': XGBClassifier(use_label_encoder = False, eval_metric = 'logloss')\n",
    "}\n",
    "\n",
    "# Hyperparameter\n",
    "# Generic search space\n",
    "search_space ={\n",
    "    'C': [0.1,1,10],\n",
    "    'kernal': ['linear', 'rgf'],\n",
    "    'n_estimators': [50,100,200],\n",
    "    'max_depth': [None,5,10],\n",
    "    'learning_rate': [0.5,1]\n",
    "}\n",
    "\n",
    "# Function to filter hyperparameter\n",
    "def filter_hyperparameter(model, space):\n",
    "    valid_keys = model.get_params().keys()\n",
    "    return {k:v for k, v in space.items() if k in valid_keys}"
   ]
  },
  {
   "cell_type": "code",
   "execution_count": 36,
   "id": "7fd29bf1-527f-452f-ab16-f411e7d494b0",
   "metadata": {},
   "outputs": [
    {
     "name": "stdout",
     "output_type": "stream",
     "text": [
      "Tuning LogisticRegression(max_iter=1000)...\n",
      "Tuning SVC(probability=True)...\n",
      "Tuning RandomForestClassifier()...\n",
      "Tuning AdaBoostClassifier()...\n",
      "Tuning XGBClassifier(base_score=None, booster=None, callbacks=None,\n",
      "              colsample_bylevel=None, colsample_bynode=None,\n",
      "              colsample_bytree=None, device=None, early_stopping_rounds=None,\n",
      "              enable_categorical=False, eval_metric='logloss',\n",
      "              feature_types=None, feature_weights=None, gamma=None,\n",
      "              grow_policy=None, importance_type=None,\n",
      "              interaction_constraints=None, learning_rate=None, max_bin=None,\n",
      "              max_cat_threshold=None, max_cat_to_onehot=None,\n",
      "              max_delta_step=None, max_depth=None, max_leaves=None,\n",
      "              min_child_weight=None, missing=nan, monotone_constraints=None,\n",
      "              multi_strategy=None, n_estimators=None, n_jobs=None,\n",
      "              num_parallel_tree=None, ...)...\n"
     ]
    }
   ],
   "source": [
    "# Grid Search for each model\n",
    "result = []\n",
    "best_pipeline = {}\n",
    "\n",
    "for name, model in model_dict.items():\n",
    "    print(f'Tuning {model}...')\n",
    "    pipe = Pipeline(steps = [\n",
    "        ('processor', preprocessor),\n",
    "        ('model', model)\n",
    "    ])\n",
    "    hyperparameter = filter_hyperparameter(model, search_space)\n",
    "    # Prefix model name\n",
    "    param_grid = {f'model__{k}':v for k,v in hyperparameter.items()}\n",
    "    grid = GridSearchCV(estimator= pipe, param_grid=param_grid, cv =5, scoring= 'accuracy', n_jobs=-1)\n",
    "    grid.fit(X_train,y_train)\n",
    "\n",
    "    y_pred = grid.predict(X_test)\n",
    "    report = metrics.classification_report(y_test,y_pred, output_dict= True) # output_dict = True because the result will come in dictionary\n",
    "    \n",
    "    result.append({\n",
    "        'model_name': name, \n",
    "        'best_parameters': param_grid,\n",
    "        'accuracy': round(metrics.accuracy_score(y_test,y_pred), 4),\n",
    "        'f1-score': round(report['weighted avg']['f1-score'], 4)\n",
    "    })\n",
    "\n",
    "    best_pipeline[name] = grid.best_estimator_"
   ]
  },
  {
   "cell_type": "code",
   "execution_count": 37,
   "id": "1f1734b4-2198-4c83-85a1-c27d886a1106",
   "metadata": {},
   "outputs": [
    {
     "name": "stdout",
     "output_type": "stream",
     "text": [
      "[{'model_name': 'Logistic_Regression', 'best_parameters': {'model__C': [0.1, 1, 10]}, 'accuracy': 0.7886, 'f1-score': 0.7826}, {'model_name': 'SVM', 'best_parameters': {'model__C': [0.1, 1, 10]}, 'accuracy': 0.7893, 'f1-score': 0.7771}, {'model_name': 'RandomForestClassifier', 'best_parameters': {'model__n_estimators': [50, 100, 200], 'model__max_depth': [None, 5, 10]}, 'accuracy': 0.7872, 'f1-score': 0.7783}, {'model_name': 'AdaBoostClassifier', 'best_parameters': {'model__n_estimators': [50, 100, 200], 'model__learning_rate': [0.5, 1]}, 'accuracy': 0.7915, 'f1-score': 0.7853}, {'model_name': 'XGBoost', 'best_parameters': {'model__n_estimators': [50, 100, 200], 'model__max_depth': [None, 5, 10], 'model__learning_rate': [0.5, 1]}, 'accuracy': 0.7779, 'f1-score': 0.7717}]\n"
     ]
    }
   ],
   "source": [
    "print(result)"
   ]
  },
  {
   "cell_type": "code",
   "execution_count": 38,
   "id": "bca1253e-08ca-4378-9c4e-880a527bc894",
   "metadata": {},
   "outputs": [
    {
     "name": "stdout",
     "output_type": "stream",
     "text": [
      "\n",
      "Model Comparisons: \n",
      "                model_name                                    best_parameters  \\\n",
      "3      AdaBoostClassifier  {'model__n_estimators': [50, 100, 200], 'model...   \n",
      "1                     SVM                         {'model__C': [0.1, 1, 10]}   \n",
      "0     Logistic_Regression                         {'model__C': [0.1, 1, 10]}   \n",
      "2  RandomForestClassifier  {'model__n_estimators': [50, 100, 200], 'model...   \n",
      "4                 XGBoost  {'model__n_estimators': [50, 100, 200], 'model...   \n",
      "\n",
      "   accuracy  f1-score  \n",
      "3    0.7915    0.7853  \n",
      "1    0.7893    0.7771  \n",
      "0    0.7886    0.7826  \n",
      "2    0.7872    0.7783  \n",
      "4    0.7779    0.7717  \n",
      "\n",
      "Best Model: AdaBoostClassifier\n",
      "\n",
      "Best Hyperparameter: {'model__n_estimators': [50, 100, 200], 'model__learning_rate': [0.5, 1]}\n"
     ]
    }
   ],
   "source": [
    "# Comapare the models\n",
    "result_df = pd.DataFrame(result)\n",
    "sorted_result_df = result_df.sort_values(by = 'accuracy', ascending = False)\n",
    "print('\\nModel Comparisons: \\n', sorted_result_df)\n",
    "\n",
    "# Best Model\n",
    "best_row = sorted_result_df.iloc[0]\n",
    "best_model = best_row['model_name']\n",
    "print('\\nBest Model:', best_model)\n",
    "print('\\nBest Hyperparameter:', best_row['best_parameters'])"
   ]
  },
  {
   "cell_type": "code",
   "execution_count": 41,
   "id": "0eeb2779-f231-4a49-9893-945c06f79254",
   "metadata": {},
   "outputs": [
    {
     "name": "stdout",
     "output_type": "stream",
     "text": [
      "The deployment model is saved as: churn_pipeline.pkl\n"
     ]
    }
   ],
   "source": [
    "# Retraining best model on full data set\n",
    "final_pipeline= best_pipeline[best_model]\n",
    "final_pipeline.fit(X,y)\n",
    "\n",
    "# Save pipeline\n",
    "joblib.dump(final_pipeline, \"churn_pipeline.pkl\")\n",
    "print(\"The deployment model is saved as: churn_pipeline.pkl\")"
   ]
  },
  {
   "cell_type": "code",
   "execution_count": null,
   "id": "ba0fb453-aee8-4669-aafd-8918b09ff0f9",
   "metadata": {},
   "outputs": [],
   "source": []
  }
 ],
 "metadata": {
  "kernelspec": {
   "display_name": "Python 3 (ipykernel)",
   "language": "python",
   "name": "python3"
  },
  "language_info": {
   "codemirror_mode": {
    "name": "ipython",
    "version": 3
   },
   "file_extension": ".py",
   "mimetype": "text/x-python",
   "name": "python",
   "nbconvert_exporter": "python",
   "pygments_lexer": "ipython3",
   "version": "3.13.7"
  }
 },
 "nbformat": 4,
 "nbformat_minor": 5
}
